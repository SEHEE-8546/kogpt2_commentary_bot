{
 "cells": [
  {
   "cell_type": "markdown",
   "metadata": {},
   "source": [
    "## 해설가 AI (KoGPT2 파인튜닝)"
   ]
  },
  {
   "cell_type": "code",
   "execution_count": null,
   "metadata": {},
   "outputs": [
    {
     "name": "stdout",
     "output_type": "stream",
     "text": [
      "^C\n"
     ]
    },
    {
     "name": "stdout",
     "output_type": "stream",
     "text": [
      "Requirement already satisfied: datasets in c:\\users\\playdata\\appdata\\local\\anaconda3\\envs\\nlp_env\\lib\\site-packages (4.0.0)\n",
      "Collecting accelerate\n",
      "  Downloading accelerate-1.10.1-py3-none-any.whl.metadata (19 kB)\n",
      "Requirement already satisfied: transformers[torch] in c:\\users\\playdata\\appdata\\local\\anaconda3\\envs\\nlp_env\\lib\\site-packages (4.55.2)\n",
      "Requirement already satisfied: filelock in c:\\users\\playdata\\appdata\\local\\anaconda3\\envs\\nlp_env\\lib\\site-packages (from transformers[torch]) (3.19.1)\n",
      "Requirement already satisfied: huggingface-hub<1.0,>=0.34.0 in c:\\users\\playdata\\appdata\\local\\anaconda3\\envs\\nlp_env\\lib\\site-packages (from transformers[torch]) (0.34.4)\n",
      "Requirement already satisfied: numpy>=1.17 in c:\\users\\playdata\\appdata\\local\\anaconda3\\envs\\nlp_env\\lib\\site-packages (from transformers[torch]) (1.26.4)\n",
      "Requirement already satisfied: packaging>=20.0 in c:\\users\\playdata\\appdata\\local\\anaconda3\\envs\\nlp_env\\lib\\site-packages (from transformers[torch]) (25.0)\n",
      "Requirement already satisfied: pyyaml>=5.1 in c:\\users\\playdata\\appdata\\local\\anaconda3\\envs\\nlp_env\\lib\\site-packages (from transformers[torch]) (6.0.2)\n",
      "Requirement already satisfied: regex!=2019.12.17 in c:\\users\\playdata\\appdata\\local\\anaconda3\\envs\\nlp_env\\lib\\site-packages (from transformers[torch]) (2024.11.6)\n",
      "Requirement already satisfied: requests in c:\\users\\playdata\\appdata\\local\\anaconda3\\envs\\nlp_env\\lib\\site-packages (from transformers[torch]) (2.32.4)\n",
      "Requirement already satisfied: tokenizers<0.22,>=0.21 in c:\\users\\playdata\\appdata\\local\\anaconda3\\envs\\nlp_env\\lib\\site-packages (from transformers[torch]) (0.21.4)\n",
      "Requirement already satisfied: safetensors>=0.4.3 in c:\\users\\playdata\\appdata\\local\\anaconda3\\envs\\nlp_env\\lib\\site-packages (from transformers[torch]) (0.6.2)\n",
      "Requirement already satisfied: tqdm>=4.27 in c:\\users\\playdata\\appdata\\local\\anaconda3\\envs\\nlp_env\\lib\\site-packages (from transformers[torch]) (4.67.1)\n",
      "Requirement already satisfied: torch>=2.1 in c:\\users\\playdata\\appdata\\local\\anaconda3\\envs\\nlp_env\\lib\\site-packages (from transformers[torch]) (2.8.0)\n",
      "Requirement already satisfied: fsspec>=2023.5.0 in c:\\users\\playdata\\appdata\\local\\anaconda3\\envs\\nlp_env\\lib\\site-packages (from huggingface-hub<1.0,>=0.34.0->transformers[torch]) (2025.3.0)\n",
      "Requirement already satisfied: typing-extensions>=3.7.4.3 in c:\\users\\playdata\\appdata\\local\\anaconda3\\envs\\nlp_env\\lib\\site-packages (from huggingface-hub<1.0,>=0.34.0->transformers[torch]) (4.14.1)\n",
      "Requirement already satisfied: pyarrow>=15.0.0 in c:\\users\\playdata\\appdata\\local\\anaconda3\\envs\\nlp_env\\lib\\site-packages (from datasets) (21.0.0)\n",
      "Requirement already satisfied: dill<0.3.9,>=0.3.0 in c:\\users\\playdata\\appdata\\local\\anaconda3\\envs\\nlp_env\\lib\\site-packages (from datasets) (0.3.8)\n",
      "Requirement already satisfied: pandas in c:\\users\\playdata\\appdata\\local\\anaconda3\\envs\\nlp_env\\lib\\site-packages (from datasets) (2.3.1)\n",
      "Requirement already satisfied: xxhash in c:\\users\\playdata\\appdata\\local\\anaconda3\\envs\\nlp_env\\lib\\site-packages (from datasets) (3.5.0)\n",
      "Requirement already satisfied: multiprocess<0.70.17 in c:\\users\\playdata\\appdata\\local\\anaconda3\\envs\\nlp_env\\lib\\site-packages (from datasets) (0.70.16)\n",
      "Requirement already satisfied: aiohttp!=4.0.0a0,!=4.0.0a1 in c:\\users\\playdata\\appdata\\local\\anaconda3\\envs\\nlp_env\\lib\\site-packages (from fsspec[http]<=2025.3.0,>=2023.1.0->datasets) (3.12.15)\n",
      "Requirement already satisfied: psutil in c:\\users\\playdata\\appdata\\local\\anaconda3\\envs\\nlp_env\\lib\\site-packages (from accelerate) (7.0.0)\n",
      "Requirement already satisfied: aiohappyeyeballs>=2.5.0 in c:\\users\\playdata\\appdata\\local\\anaconda3\\envs\\nlp_env\\lib\\site-packages (from aiohttp!=4.0.0a0,!=4.0.0a1->fsspec[http]<=2025.3.0,>=2023.1.0->datasets) (2.6.1)\n",
      "Requirement already satisfied: aiosignal>=1.4.0 in c:\\users\\playdata\\appdata\\local\\anaconda3\\envs\\nlp_env\\lib\\site-packages (from aiohttp!=4.0.0a0,!=4.0.0a1->fsspec[http]<=2025.3.0,>=2023.1.0->datasets) (1.4.0)\n",
      "Requirement already satisfied: attrs>=17.3.0 in c:\\users\\playdata\\appdata\\local\\anaconda3\\envs\\nlp_env\\lib\\site-packages (from aiohttp!=4.0.0a0,!=4.0.0a1->fsspec[http]<=2025.3.0,>=2023.1.0->datasets) (25.3.0)\n",
      "Requirement already satisfied: frozenlist>=1.1.1 in c:\\users\\playdata\\appdata\\local\\anaconda3\\envs\\nlp_env\\lib\\site-packages (from aiohttp!=4.0.0a0,!=4.0.0a1->fsspec[http]<=2025.3.0,>=2023.1.0->datasets) (1.7.0)\n",
      "Requirement already satisfied: multidict<7.0,>=4.5 in c:\\users\\playdata\\appdata\\local\\anaconda3\\envs\\nlp_env\\lib\\site-packages (from aiohttp!=4.0.0a0,!=4.0.0a1->fsspec[http]<=2025.3.0,>=2023.1.0->datasets) (6.6.4)\n",
      "Requirement already satisfied: propcache>=0.2.0 in c:\\users\\playdata\\appdata\\local\\anaconda3\\envs\\nlp_env\\lib\\site-packages (from aiohttp!=4.0.0a0,!=4.0.0a1->fsspec[http]<=2025.3.0,>=2023.1.0->datasets) (0.3.2)\n",
      "Requirement already satisfied: yarl<2.0,>=1.17.0 in c:\\users\\playdata\\appdata\\local\\anaconda3\\envs\\nlp_env\\lib\\site-packages (from aiohttp!=4.0.0a0,!=4.0.0a1->fsspec[http]<=2025.3.0,>=2023.1.0->datasets) (1.20.1)\n",
      "Requirement already satisfied: idna>=2.0 in c:\\users\\playdata\\appdata\\local\\anaconda3\\envs\\nlp_env\\lib\\site-packages (from yarl<2.0,>=1.17.0->aiohttp!=4.0.0a0,!=4.0.0a1->fsspec[http]<=2025.3.0,>=2023.1.0->datasets) (3.10)\n",
      "Requirement already satisfied: charset_normalizer<4,>=2 in c:\\users\\playdata\\appdata\\local\\anaconda3\\envs\\nlp_env\\lib\\site-packages (from requests->transformers[torch]) (3.4.3)\n",
      "Requirement already satisfied: urllib3<3,>=1.21.1 in c:\\users\\playdata\\appdata\\local\\anaconda3\\envs\\nlp_env\\lib\\site-packages (from requests->transformers[torch]) (2.5.0)\n",
      "Requirement already satisfied: certifi>=2017.4.17 in c:\\users\\playdata\\appdata\\local\\anaconda3\\envs\\nlp_env\\lib\\site-packages (from requests->transformers[torch]) (2025.8.3)\n",
      "Requirement already satisfied: sympy>=1.13.3 in c:\\users\\playdata\\appdata\\local\\anaconda3\\envs\\nlp_env\\lib\\site-packages (from torch>=2.1->transformers[torch]) (1.14.0)\n",
      "Requirement already satisfied: networkx in c:\\users\\playdata\\appdata\\local\\anaconda3\\envs\\nlp_env\\lib\\site-packages (from torch>=2.1->transformers[torch]) (3.5)\n",
      "Requirement already satisfied: jinja2 in c:\\users\\playdata\\appdata\\local\\anaconda3\\envs\\nlp_env\\lib\\site-packages (from torch>=2.1->transformers[torch]) (3.1.6)\n",
      "Requirement already satisfied: setuptools in c:\\users\\playdata\\appdata\\local\\anaconda3\\envs\\nlp_env\\lib\\site-packages (from torch>=2.1->transformers[torch]) (78.1.1)\n",
      "Requirement already satisfied: mpmath<1.4,>=1.1.0 in c:\\users\\playdata\\appdata\\local\\anaconda3\\envs\\nlp_env\\lib\\site-packages (from sympy>=1.13.3->torch>=2.1->transformers[torch]) (1.3.0)\n",
      "Requirement already satisfied: colorama in c:\\users\\playdata\\appdata\\local\\anaconda3\\envs\\nlp_env\\lib\\site-packages (from tqdm>=4.27->transformers[torch]) (0.4.6)\n",
      "Requirement already satisfied: MarkupSafe>=2.0 in c:\\users\\playdata\\appdata\\local\\anaconda3\\envs\\nlp_env\\lib\\site-packages (from jinja2->torch>=2.1->transformers[torch]) (3.0.2)\n",
      "Requirement already satisfied: python-dateutil>=2.8.2 in c:\\users\\playdata\\appdata\\local\\anaconda3\\envs\\nlp_env\\lib\\site-packages (from pandas->datasets) (2.9.0.post0)\n",
      "Requirement already satisfied: pytz>=2020.1 in c:\\users\\playdata\\appdata\\local\\anaconda3\\envs\\nlp_env\\lib\\site-packages (from pandas->datasets) (2025.2)\n",
      "Requirement already satisfied: tzdata>=2022.7 in c:\\users\\playdata\\appdata\\local\\anaconda3\\envs\\nlp_env\\lib\\site-packages (from pandas->datasets) (2025.2)\n",
      "Requirement already satisfied: six>=1.5 in c:\\users\\playdata\\appdata\\local\\anaconda3\\envs\\nlp_env\\lib\\site-packages (from python-dateutil>=2.8.2->pandas->datasets) (1.17.0)\n",
      "Downloading accelerate-1.10.1-py3-none-any.whl (374 kB)\n",
      "Installing collected packages: accelerate\n",
      "Successfully installed accelerate-1.10.1\n"
     ]
    }
   ],
   "source": [
    "# !pip install transformers[torch] datasets accelerate"
   ]
  },
  {
   "cell_type": "code",
   "execution_count": 6,
   "metadata": {},
   "outputs": [
    {
     "name": "stdout",
     "output_type": "stream",
     "text": [
      "WARNING:tensorflow:From c:\\Users\\Playdata\\AppData\\Local\\anaconda3\\envs\\nlp_env\\Lib\\site-packages\\tf_keras\\src\\losses.py:2976: The name tf.losses.sparse_softmax_cross_entropy is deprecated. Please use tf.compat.v1.losses.sparse_softmax_cross_entropy instead.\n",
      "\n"
     ]
    }
   ],
   "source": [
    "import torch\n",
    "from torch.utils.data import Dataset\n",
    "from transformers import (\n",
    "    AutoTokenizer,\n",
    "    AutoModelForCausalLM,\n",
    "    TrainingArguments,\n",
    "    Trainer,\n",
    "    DataCollatorForLanguageModeling,\n",
    "    pipeline\n",
    ")"
   ]
  },
  {
   "cell_type": "markdown",
   "metadata": {},
   "source": [
    "### 2. 데이터셋 로드 및 전처리\n",
    "만들어둔 `commentary_dataset.txt` 파일을 읽고, 파인튜닝에 사용할 수 있는 형태로 가공합니다."
   ]
  },
  {
   "cell_type": "code",
   "execution_count": null,
   "metadata": {},
   "outputs": [
    {
     "name": "stdout",
     "output_type": "stream",
     "text": [
      "총 267개의 데이터 쌍을 로드했습니다.\n",
      "[{'input': '아침에 늦잠을 잤다.', 'output': '아, 경기 시작부터 위기입니다! 중요한 순간, 늦잠이라는 치명적인 실수가 나오고 맙니다!'}, {'input': '코딩하는데 에러가 계속 난다.', 'output': '자, 키보드 위에서 손가락은 보이지 않고요! 엄청난 속도로 코드를 수정하고 있습니다만, 아~ 계속되는 에러! 쉽게 풀리지 않는 경기입니다!'}]\n"
     ]
    }
   ],
   "source": [
    "file_path = './data/commentary_dataset.txt'\n",
    "data_pairs = []\n",
    "\n",
    "with open(file_path, 'r', encoding='utf-8') as f:\n",
    "        text = f.read()\n",
    "\n",
    "if text:\n",
    "    blocks = text.split('---')\n",
    "    for block in blocks:\n",
    "        if 1 > len(block):\n",
    "            continue\n",
    "        _, input_line, output_line, _ = block.split('\\n')\n",
    "        input_text = input_line.replace('입력: ', '')\n",
    "        output_text = output_line.replace('출력: ', '')\n",
    "        data_pairs.append({'input': input_text, 'output': output_text})\n",
    "\n",
    "print(f\"총 {len(data_pairs)}개의 데이터 쌍을 로드했습니다.\")\n",
    "print(data_pairs[:2])"
   ]
  },
  {
   "cell_type": "markdown",
   "metadata": {},
   "source": [
    "### 3. 모델 및 토크나이저 로드\n",
    "`skt/KoGPT2-base-v2` 모델과 토크나이저를 불러오기"
   ]
  },
  {
   "cell_type": "code",
   "execution_count": null,
   "metadata": {},
   "outputs": [
    {
     "data": {
      "application/vnd.jupyter.widget-view+json": {
       "model_id": "c9eb5adaee844eb58d9695c72cb55327",
       "version_major": 2,
       "version_minor": 0
      },
      "text/plain": [
       "config.json: 0.00B [00:00, ?B/s]"
      ]
     },
     "metadata": {},
     "output_type": "display_data"
    },
    {
     "name": "stderr",
     "output_type": "stream",
     "text": [
      "c:\\Users\\Playdata\\AppData\\Local\\anaconda3\\envs\\nlp_env\\Lib\\site-packages\\huggingface_hub\\file_download.py:143: UserWarning: `huggingface_hub` cache-system uses symlinks by default to efficiently store duplicated files but your machine does not support them in C:\\Users\\Playdata\\.cache\\huggingface\\hub\\models--skt--KoGPT2-base-v2. Caching files will still work but in a degraded version that might require more space on your disk. This warning can be disabled by setting the `HF_HUB_DISABLE_SYMLINKS_WARNING` environment variable. For more details, see https://huggingface.co/docs/huggingface_hub/how-to-cache#limitations.\n",
      "To support symlinks on Windows, you either need to activate Developer Mode or to run Python as an administrator. In order to activate developer mode, see this article: https://docs.microsoft.com/en-us/windows/apps/get-started/enable-your-device-for-development\n",
      "  warnings.warn(message)\n"
     ]
    },
    {
     "data": {
      "application/vnd.jupyter.widget-view+json": {
       "model_id": "522cfb58286945028158d81d3959a5aa",
       "version_major": 2,
       "version_minor": 0
      },
      "text/plain": [
       "tokenizer.json: 0.00B [00:00, ?B/s]"
      ]
     },
     "metadata": {},
     "output_type": "display_data"
    },
    {
     "name": "stderr",
     "output_type": "stream",
     "text": [
      "Xet Storage is enabled for this repo, but the 'hf_xet' package is not installed. Falling back to regular HTTP download. For better performance, install the package with: `pip install huggingface_hub[hf_xet]` or `pip install hf_xet`\n"
     ]
    },
    {
     "data": {
      "application/vnd.jupyter.widget-view+json": {
       "model_id": "48ede79f491b4b7f82b37f436d6d2847",
       "version_major": 2,
       "version_minor": 0
      },
      "text/plain": [
       "pytorch_model.bin:   0%|          | 0.00/513M [00:00<?, ?B/s]"
      ]
     },
     "metadata": {},
     "output_type": "display_data"
    },
    {
     "name": "stderr",
     "output_type": "stream",
     "text": [
      "The new embeddings will be initialized from a multivariate normal distribution that has old embeddings' mean and covariance. As described in this article: https://nlp.stanford.edu/~johnhew/vocab-expansion.html. To disable this, use `mean_resizing=False`\n"
     ]
    },
    {
     "data": {
      "text/plain": [
       "Embedding(51203, 768)"
      ]
     },
     "execution_count": 59,
     "metadata": {},
     "output_type": "execute_result"
    }
   ],
   "source": [
    "model_name = 'skt/KoGPT2-base-v2'\n",
    "\n",
    "tokenizer = AutoTokenizer.from_pretrained(model_name,\n",
    "  bos_token='<|startoftext|>',\n",
    "  eos_token='<|endoftext|>',\n",
    "  pad_token='<|pad|>'\n",
    ")\n",
    "\n",
    "model = AutoModelForCausalLM.from_pretrained(model_name)\n",
    "model.resize_token_embeddings(len(tokenizer))"
   ]
  },
  {
   "cell_type": "markdown",
   "metadata": {},
   "source": [
    "### 4. 데이터셋 클래스 정의\n",
    "KoGPT2 모델 학습을 위해 데이터를 특정 형식(`시작토큰` + `입력` + `출력` + `종료토큰`)으로 만들고 토크나이징하는 클래스를 정의합니다."
   ]
  },
  {
   "cell_type": "code",
   "execution_count": 60,
   "metadata": {},
   "outputs": [],
   "source": [
    "class CommentaryDataset(Dataset):\n",
    "    def __init__(self, tokenizer, data_pairs, max_len=128):\n",
    "        self.tokenizer = tokenizer\n",
    "        self.data = []\n",
    "        \n",
    "        for pair in data_pairs:\n",
    "            # 학습 형식: <|startoftext|>입력: [일상 문장] 출력: [해설 문장]<|endoftext|>\n",
    "            formatted_text = (\n",
    "                f\"<|startoftext|>입력: {pair['input']} 출력: {pair['output']}<|endoftext|>\"\n",
    "            )\n",
    "            \n",
    "            # 텍스트를 토큰 ID로 변환\n",
    "            tokenized = self.tokenizer(formatted_text,\n",
    "                                       padding='max_length',\n",
    "                                       truncation=True,\n",
    "                                       max_length=max_len,\n",
    "                                       return_tensors='pt')\n",
    "            \n",
    "            self.data.append({\n",
    "                'input_ids': tokenized.input_ids.squeeze(0),\n",
    "                'attention_mask': tokenized.attention_mask.squeeze(0),\n",
    "                # Causal LM에서는 레이블이 입력과 동일합니다.\n",
    "                'labels': tokenized.input_ids.squeeze(0).clone() \n",
    "            })\n",
    "\n",
    "    def __len__(self):\n",
    "        return len(self.data)\n",
    "\n",
    "    def __getitem__(self, idx):\n",
    "        return self.data[idx]\n",
    "\n",
    "train_dataset = CommentaryDataset(tokenizer, data_pairs)"
   ]
  },
  {
   "cell_type": "markdown",
   "metadata": {},
   "source": [
    "### 5. 학습 설정 및 트레이너 생성\n",
    "파인튜닝을 위한 여러 하이퍼파라미터를 설정하고, 학습을 담당할 `Trainer`를 생성합니다."
   ]
  },
  {
   "cell_type": "code",
   "execution_count": null,
   "metadata": {},
   "outputs": [],
   "source": [
    "output_dir = './results'\n",
    "\n",
    "training_args = TrainingArguments(\n",
    "    output_dir=output_dir,                # 결과물 저장 경로\n",
    "    num_train_epochs=5,                   # 총 학습 에포크\n",
    "    per_device_train_batch_size=4,        # 장치당 배치 사이즈\n",
    "    warmup_steps=10,                      # 학습률 스케줄러를 위한 웜업 스텝\n",
    "    weight_decay=0.01,                    # 가중치 감소\n",
    "    logging_dir='./logs',                 # 로그 저장 경로\n",
    "    logging_steps=10     \n",
    ")\n",
    "\n",
    "# 언어 모델링을 위한 데이터 콜레이터. MLM은 False로 설정합니다.\n",
    "data_collator = DataCollatorForLanguageModeling(\n",
    "    tokenizer=tokenizer,\n",
    "    mlm=False, \n",
    ")\n",
    "\n",
    "trainer = Trainer(\n",
    "    model=model,\n",
    "    args=training_args,\n",
    "    train_dataset=train_dataset,\n",
    "    data_collator=data_collator,\n",
    ")"
   ]
  },
  {
   "cell_type": "markdown",
   "metadata": {},
   "source": [
    "### 6. 노트북으로도 할 수 있는 가벼운 파인튜닝 시작\n",
    "이제 `trainer.train()`을 호출하여 실제 학습을 시작합니다."
   ]
  },
  {
   "cell_type": "code",
   "execution_count": null,
   "metadata": {},
   "outputs": [
    {
     "ename": "NameError",
     "evalue": "name 'trainer' is not defined",
     "output_type": "error",
     "traceback": [
      "\u001b[31m---------------------------------------------------------------------------\u001b[39m",
      "\u001b[31mNameError\u001b[39m                                 Traceback (most recent call last)",
      "\u001b[36mCell\u001b[39m\u001b[36m \u001b[39m\u001b[32mIn[1]\u001b[39m\u001b[32m, line 1\u001b[39m\n\u001b[32m----> \u001b[39m\u001b[32m1\u001b[39m \u001b[43mtrainer\u001b[49m.train()\n",
      "\u001b[31mNameError\u001b[39m: name 'trainer' is not defined"
     ]
    }
   ],
   "source": [
    "trainer.train()"
   ]
  },
  {
   "cell_type": "markdown",
   "metadata": {},
   "source": [
    "### 7. 학습된 모델 저장\n",
    "파인튜닝이 완료된 모델 로컬저장"
   ]
  },
  {
   "cell_type": "code",
   "execution_count": 2,
   "metadata": {},
   "outputs": [
    {
     "ename": "NameError",
     "evalue": "name 'model' is not defined",
     "output_type": "error",
     "traceback": [
      "\u001b[31m---------------------------------------------------------------------------\u001b[39m",
      "\u001b[31mNameError\u001b[39m                                 Traceback (most recent call last)",
      "\u001b[36mCell\u001b[39m\u001b[36m \u001b[39m\u001b[32mIn[2]\u001b[39m\u001b[32m, line 2\u001b[39m\n\u001b[32m      1\u001b[39m save_dir = \u001b[33m'\u001b[39m\u001b[33m./fine-tuned-kogpt2-commentary\u001b[39m\u001b[33m'\u001b[39m\n\u001b[32m----> \u001b[39m\u001b[32m2\u001b[39m \u001b[43mmodel\u001b[49m.save_pretrained(save_dir)\n\u001b[32m      3\u001b[39m tokenizer.save_pretrained(save_dir)\n",
      "\u001b[31mNameError\u001b[39m: name 'model' is not defined"
     ]
    }
   ],
   "source": [
    "save_dir = './fine-tuned-kogpt2-commentary'\n",
    "model.save_pretrained(save_dir)\n",
    "tokenizer.save_pretrained(save_dir)"
   ]
  },
  {
   "cell_type": "markdown",
   "metadata": {},
   "source": [
    "### 8. 나만의 해설가 AI 테스트\n",
    "저장된 모델을 `pipeline`으로 불러와 새로운 문장을 스포츠 해설처럼 생성하는지 테스트해봅니다."
   ]
  },
  {
   "cell_type": "code",
   "execution_count": 1,
   "metadata": {},
   "outputs": [],
   "source": [
    "import torch\n",
    "from transformers import (\n",
    "    AutoTokenizer,\n",
    "    AutoModelForCausalLM,\n",
    "    pipeline\n",
    ")"
   ]
  },
  {
   "cell_type": "code",
   "execution_count": 2,
   "metadata": {},
   "outputs": [
    {
     "data": {
      "text/plain": [
       "Embedding(51203, 768)"
      ]
     },
     "execution_count": 2,
     "metadata": {},
     "output_type": "execute_result"
    }
   ],
   "source": [
    "save_dir = './fine-tuned-kogpt2-commentary'\n",
    "tokenizer = AutoTokenizer.from_pretrained(save_dir,\n",
    "  bos_token='<|startoftext|>',\n",
    "  eos_token='<|endoftext|>',\n",
    "  pad_token='<|pad|>'\n",
    ")\n",
    "\n",
    "model = AutoModelForCausalLM.from_pretrained(save_dir)\n",
    "\n",
    "model.resize_token_embeddings(len(tokenizer))"
   ]
  },
  {
   "cell_type": "code",
   "execution_count": 3,
   "metadata": {},
   "outputs": [
    {
     "name": "stdout",
     "output_type": "stream",
     "text": [
      "WARNING:tensorflow:From c:\\Users\\Playdata\\AppData\\Local\\anaconda3\\envs\\nlp_env\\Lib\\site-packages\\tf_keras\\src\\losses.py:2976: The name tf.losses.sparse_softmax_cross_entropy is deprecated. Please use tf.compat.v1.losses.sparse_softmax_cross_entropy instead.\n",
      "\n"
     ]
    },
    {
     "name": "stderr",
     "output_type": "stream",
     "text": [
      "Device set to use cpu\n"
     ]
    }
   ],
   "source": [
    "tokenizer.save_pretrained(save_dir)\n",
    "generator = pipeline('text-generation', model=save_dir, tokenizer=tokenizer, device=0 if torch.cuda.is_available() else -1)"
   ]
  },
  {
   "cell_type": "code",
   "execution_count": 6,
   "metadata": {},
   "outputs": [
    {
     "name": "stderr",
     "output_type": "stream",
     "text": [
      "The following generation flags are not valid and may be ignored: ['early_stopping']. Set `TRANSFORMERS_VERBOSITY=info` for more details.\n",
      "Both `max_new_tokens` (=256) and `max_length`(=100) seem to have been set. `max_new_tokens` will take precedence. Please refer to the documentation for more information. (https://huggingface.co/docs/transformers/main/en/main_classes/text_generation)\n"
     ]
    },
    {
     "name": "stdout",
     "output_type": "stream",
     "text": [
      "입력 문장: 공부를 한다.\n",
      "AI 해설가 생성 문장: \n",
      "자신만의 루틴으로 승부하고 있습니다. 자신만의 플레이를 펼칩니다.\n"
     ]
    },
    {
     "name": "stderr",
     "output_type": "stream",
     "text": [
      "The following generation flags are not valid and may be ignored: ['early_stopping']. Set `TRANSFORMERS_VERBOSITY=info` for more details.\n",
      "Both `max_new_tokens` (=256) and `max_length`(=100) seem to have been set. `max_new_tokens` will take precedence. Please refer to the documentation for more information. (https://huggingface.co/docs/transformers/main/en/main_classes/text_generation)\n"
     ]
    },
    {
     "name": "stdout",
     "output_type": "stream",
     "text": [
      "입력 문장: 공부를 하는데 어렵다. 춥다.\n",
      "AI 해설가 생성 문장: \n",
      "어려운 상황에서도 굴하지 않는 강한 정신력을 가졌습니다! 위기 상황에서 더욱 빛나는 선수입니다.\n"
     ]
    }
   ],
   "source": [
    "while True:\n",
    "    input_prompt = input(\"테스트할 문장을 입력하세요: (나가기=q)\")\n",
    "    if input_prompt == \"q\":\n",
    "        break\n",
    "\n",
    "    formatted_prompt = f\"<|startoftext|>입력: {input_prompt} 출력:\"\n",
    "\n",
    "    print(f\"입력 문장: {input_prompt}\")\n",
    "\n",
    "    # 텍스트 생성\n",
    "    generated_output = generator(\n",
    "        formatted_prompt, \n",
    "        max_length=100,\n",
    "        num_return_sequences=1,\n",
    "        no_repeat_ngram_size=2,\n",
    "        early_stopping=True,\n",
    "        eos_token_id=tokenizer.eos_token_id,\n",
    "        top_k=100,\n",
    "        top_p=0.3\n",
    "    )\n",
    "\n",
    "    print(\"AI 해설가 생성 문장: \")\n",
    "\n",
    "    # 생성된 텍스트를 깔끔하게 정리합니다.\n",
    "    full_text = generated_output[0]['generated_text']\n",
    "\n",
    "    # '출력:' 이후의 텍스트만 잘라냅니다.\n",
    "    start_index = full_text.find('출력:') + len('출력:')\n",
    "\n",
    "    # 문장의 끝을 나타내는 eos_token 이후의 내용은 잘라냅니다.\n",
    "    end_index = full_text.find(tokenizer.eos_token, start_index)\n",
    "    if end_index == -1:\n",
    "        end_index = len(full_text)\n",
    "\n",
    "    commentary = full_text[start_index:end_index].strip()\n",
    "    print(commentary)"
   ]
  }
 ],
 "metadata": {
  "kernelspec": {
   "display_name": "nlp_env",
   "language": "python",
   "name": "python3"
  },
  "language_info": {
   "codemirror_mode": {
    "name": "ipython",
    "version": 3
   },
   "file_extension": ".py",
   "mimetype": "text/x-python",
   "name": "python",
   "nbconvert_exporter": "python",
   "pygments_lexer": "ipython3",
   "version": "3.12.11"
  }
 },
 "nbformat": 4,
 "nbformat_minor": 4
}
